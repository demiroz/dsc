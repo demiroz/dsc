{
 "cells": [
  {
   "cell_type": "code",
   "execution_count": 5,
   "id": "b52ac31d-e797-4470-8c7c-4ce97ac78d07",
   "metadata": {},
   "outputs": [
    {
     "name": "stdout",
     "output_type": "stream",
     "text": [
      "@context: https://project-open-data.cio.gov/v1.1/schema/catalog.jsonld\n",
      "@id: http://api.census.gov/data/2019/cre.json\n",
      "@type: dcat:Catalog\n",
      "conformsTo: https://project-open-data.cio.gov/v1.1/schema\n",
      "describedBy: https://project-open-data.cio.gov/v1.1/schema/catalog.json\n",
      "dataset: [{'c_vintage': 2019, 'c_dataset': ['cre'], 'c_geographyLink': 'http://api.census.gov/data/2019/cre/geography.json', 'c_variablesLink': 'http://api.census.gov/data/2019/cre/variables.json', 'c_tagsLink': 'http://api.census.gov/data/2019/cre/tags.json', 'c_examplesLink': 'http://api.census.gov/data/2019/cre/examples.json', 'c_groupsLink': 'http://api.census.gov/data/2019/cre/groups.json', 'c_sorts_url': 'http://api.census.gov/data/2019/cre/sorts.json', 'c_documentationLink': 'https://www.census.gov/developer/', 'c_isAggregate': True, 'c_isAvailable': True, '@type': 'dcat:Dataset', 'title': 'Community Resilience Estimates: Community Resilience Estimates', 'accessLevel': 'public', 'bureauCode': ['006:07'], 'description': 'The Community Resilience Estimates track how at-risk every neighborhood in the United States is to the impacts of a disaster. The Community Resilience Estimates use American Community Survey microdata and Population Estimates Program data to measure the capacity of individuals and households to absorb the external stresses of the impacts of a disaster.', 'distribution': [{'@type': 'dcat:Distribution', 'accessURL': 'http://api.census.gov/data/2019/cre', 'description': 'API endpoint', 'format': 'API', 'mediaType': 'application/json', 'title': 'API endpoint'}], 'contactPoint': {'fn': 'Social, Economic, and Housing   Statistics Division (Household Characteristics Branch)', 'hasEmail': 'mailto:SEHSD.CRE@census.gov'}, 'identifier': 'https://api.census.gov/data/id/CRE2019', 'keyword': ['census'], 'license': 'https://creativecommons.org/publicdomain/zero/1.0/', 'modified': '2021-11-22 00:00:00.0', 'programCode': ['006:004'], 'references': ['https://www.census.gov/developers/'], 'publisher': {'@type': 'org:Organization', 'name': 'U.S. Census Bureau', 'subOrganizationOf': {'@type': 'org:Organization', 'name': 'U.S. Department Of Commerce', 'subOrganizationOf': {'@type': 'org:Organization', 'name': 'U.S. Government'}}}}]\n"
     ]
    }
   ],
   "source": [
    "import requests \n",
    "import json\n",
    "import pandas as pd\n",
    "\n",
    "url=\" http://api.census.gov/data/2019/cre\"\n",
    "r= requests.get(url)\n",
    "json_data=r.json()\n",
    "for key, value in json_data.items():\n",
    "    print(key + \":\", value)"
   ]
  },
  {
   "cell_type": "code",
   "execution_count": 2,
   "id": "e72cc0ea-8d4c-4043-a48c-f7b0df1f262d",
   "metadata": {},
   "outputs": [
    {
     "name": "stdout",
     "output_type": "stream",
     "text": [
      "{\n",
      "  \"@context\": \"https://project-open-data.cio.gov/v1.1/schema/catalog.jsonld\",\n",
      "  \"@id\": \"http://api.census.gov/data/2019/cre.json\",\n",
      "  \"@type\": \"dcat:Catalog\",\n",
      "  \"conformsTo\": \"https://project-open-data.cio.gov/v1.1/schema\",\n",
      "  \"describedBy\": \"https://project-open-data.cio.gov/v1.1/schema/catalog.json\",\n",
      "  \"dataset\": [\n",
      "    {\n",
      "      \"c_vintage\": 2019,\n",
      "      \"c_dataset\": [\n",
      "        \"cre\"\n",
      "      ],\n",
      "      \"c_geographyLink\": \"http://api.census.gov/data/2019/cre/geography.json\",\n",
      "      \"c_variablesLink\": \"http://api.census.gov/data/2019/cre/variables.json\",\n",
      "      \"c_tagsLink\": \"http://api.census.gov/data/2019/cre/tags.json\",\n",
      "      \"c_examplesLink\": \"http://api.census.gov/data/2019/cre/examples.json\",\n",
      "      \"c_groupsLink\": \"http://api.census.gov/data/2019/cre/groups.json\",\n",
      "      \"c_sorts_url\": \"http://api.census.gov/data/2019/cre/sorts.json\",\n",
      "      \"c_documentationLink\": \"https://www.census.gov/developer/\",\n",
      "      \"c_isAggregate\": true,\n",
      "      \"c_isAvailable\": true,\n",
      "      \"@type\": \"dcat:Dataset\",\n",
      "      \"title\": \"Community Resilience Estimates: Community Resilience Estimates\",\n",
      "      \"accessLevel\": \"public\",\n",
      "      \"bureauCode\": [\n",
      "        \"006:07\"\n",
      "      ],\n",
      "      \"description\": \"The Community Resilience Estimates track how at-risk every neighborhood in the United States is to the impacts of a disaster. The Community Resilience Estimates use American Community Survey microdata and Population Estimates Program data to measure the capacity of individuals and households to absorb the external stresses of the impacts of a disaster.\",\n",
      "      \"distribution\": [\n",
      "        {\n",
      "          \"@type\": \"dcat:Distribution\",\n",
      "          \"accessURL\": \"http://api.census.gov/data/2019/cre\",\n",
      "          \"description\": \"API endpoint\",\n",
      "          \"format\": \"API\",\n",
      "          \"mediaType\": \"application/json\",\n",
      "          \"title\": \"API endpoint\"\n",
      "        }\n",
      "      ],\n",
      "      \"contactPoint\": {\n",
      "        \"fn\": \"Social, Economic, and Housing   Statistics Division (Household Characteristics Branch)\",\n",
      "        \"hasEmail\": \"mailto:SEHSD.CRE@census.gov\"\n",
      "      },\n",
      "      \"identifier\": \"https://api.census.gov/data/id/CRE2019\",\n",
      "      \"keyword\": [\n",
      "        \"census\"\n",
      "      ],\n",
      "      \"license\": \"https://creativecommons.org/publicdomain/zero/1.0/\",\n",
      "      \"modified\": \"2021-11-22 00:00:00.0\",\n",
      "      \"programCode\": [\n",
      "        \"006:004\"\n",
      "      ],\n",
      "      \"references\": [\n",
      "        \"https://www.census.gov/developers/\"\n",
      "      ],\n",
      "      \"publisher\": {\n",
      "        \"@type\": \"org:Organization\",\n",
      "        \"name\": \"U.S. Census Bureau\",\n",
      "        \"subOrganizationOf\": {\n",
      "             \"@type\": \"org:Organization\",\n",
      "             \"name\": \"U.S. Department Of Commerce\",\n",
      "             \"subOrganizationOf\": {\n",
      "                 \"@type\": \"org:Organization\",\n",
      "                 \"name\": \"U.S. Government\"\n",
      "             }\n",
      "         }\n",
      "      }\n",
      "    }\n",
      "  ]\n",
      "}\n"
     ]
    }
   ],
   "source": [
    "text_data=r.text\n",
    "print(text_data)"
   ]
  },
  {
   "cell_type": "code",
   "execution_count": 3,
   "id": "4d7fcec8-5fc3-426e-9a8f-b39be084bee0",
   "metadata": {},
   "outputs": [
    {
     "name": "stdout",
     "output_type": "stream",
     "text": [
      "variables: {'for': {'label': \"Census API FIPS 'for' clause\", 'concept': 'Census API Geography Specification', 'predicateType': 'fips-for', 'group': 'N/A', 'limit': 0, 'predicateOnly': True}, 'in': {'label': \"Census API FIPS 'in' clause\", 'concept': 'Census API Geography Specification', 'predicateType': 'fips-in', 'group': 'N/A', 'limit': 0, 'predicateOnly': True}, 'ucgid': {'label': 'Uniform Census Geography Identifier clause', 'concept': 'Census API Geography Specification', 'predicateType': 'ucgid', 'group': 'N/A', 'limit': 0, 'predicateOnly': True, 'hasGeoCollectionSupport': True}, 'STATE': {'label': 'Geography', 'group': 'N/A', 'limit': 0}, 'PRED3_PE': {'label': 'Rate of individuals with three or more risk risk factors', 'concept': 'Community Resilience Estimates', 'predicateType': 'float', 'group': 'CRE', 'limit': 0, 'attributes': 'PRED3_PM'}, 'GEO_ID': {'label': 'Geographic Identifier', 'concept': 'Community Resilience Estimates', 'predicateType': 'string', 'group': 'CRE', 'limit': 0, 'attributes': 'NAME'}, 'GEOCOMP': {'label': 'GEO_ID Component', 'required': 'default displayed', 'predicateType': 'string', 'group': 'N/A', 'limit': 0}, 'TRACT': {'label': 'Geography', 'group': 'N/A', 'limit': 0}, 'SUMLEVEL': {'label': 'Summary Level code', 'predicateType': 'string', 'group': 'N/A', 'limit': 0}, 'NATION': {'label': 'Geography', 'group': 'N/A', 'limit': 0}, 'PRED3_E': {'label': 'Estimated number of individuals with three or more risk factors', 'concept': 'Community Resilience Estimates', 'predicateType': 'int', 'group': 'CRE', 'limit': 0, 'attributes': 'PRED3_M'}, 'PRED0_PE': {'label': 'Rate of individuals with zero risk factors', 'concept': 'Community Resilience Estimates', 'predicateType': 'float', 'group': 'CRE', 'limit': 0, 'attributes': 'PRED0_PM'}, 'PRED12_PE': {'label': 'Rate of individuals with one-two risk factors', 'concept': 'Community Resilience Estimates', 'predicateType': 'float', 'group': 'CRE', 'limit': 0, 'attributes': 'PRED12_PM'}, 'PRED12_E': {'label': 'Estimated number of individuals with one-two risk factors', 'concept': 'Community Resilience Estimates', 'predicateType': 'int', 'group': 'CRE', 'limit': 0, 'attributes': 'PRED12_M'}, 'POPUNI': {'label': 'Population Universe', 'concept': 'Community Resilience Estimates', 'predicateType': 'int', 'group': 'CRE', 'limit': 0}, 'PRED0_E': {'label': 'Estimated number of individuals with zero risk factors', 'concept': 'Community Resilience Estimates', 'predicateType': 'int', 'group': 'CRE', 'limit': 0, 'attributes': 'PRED0_M'}, 'COUNTY': {'label': 'Geography', 'group': 'N/A', 'limit': 0}}\n"
     ]
    }
   ],
   "source": [
    "url2=\"http://api.census.gov/data/2019/cre/variables.json\"\n",
    "r2=requests.get(url2)\n",
    "json_data2=r2.json()\n",
    "for key, value in json_data2.items():\n",
    "    print(key + \":\", value)"
   ]
  },
  {
   "cell_type": "code",
   "execution_count": 8,
   "id": "1c78bfc1-3aef-43c6-9e7f-0371228ceaaf",
   "metadata": {},
   "outputs": [],
   "source": [
    "df=pd.DataFrame(json_data2)"
   ]
  },
  {
   "cell_type": "code",
   "execution_count": 9,
   "id": "77aef441-3379-4bd3-aa38-a8516b3326e6",
   "metadata": {},
   "outputs": [
    {
     "data": {
      "text/html": [
       "<div>\n",
       "<style scoped>\n",
       "    .dataframe tbody tr th:only-of-type {\n",
       "        vertical-align: middle;\n",
       "    }\n",
       "\n",
       "    .dataframe tbody tr th {\n",
       "        vertical-align: top;\n",
       "    }\n",
       "\n",
       "    .dataframe thead th {\n",
       "        text-align: right;\n",
       "    }\n",
       "</style>\n",
       "<table border=\"1\" class=\"dataframe\">\n",
       "  <thead>\n",
       "    <tr style=\"text-align: right;\">\n",
       "      <th></th>\n",
       "      <th>variables</th>\n",
       "    </tr>\n",
       "  </thead>\n",
       "  <tbody>\n",
       "    <tr>\n",
       "      <th>COUNTY</th>\n",
       "      <td>{'label': 'Geography', 'group': 'N/A', 'limit'...</td>\n",
       "    </tr>\n",
       "    <tr>\n",
       "      <th>GEOCOMP</th>\n",
       "      <td>{'label': 'GEO_ID Component', 'required': 'def...</td>\n",
       "    </tr>\n",
       "    <tr>\n",
       "      <th>GEO_ID</th>\n",
       "      <td>{'label': 'Geographic Identifier', 'concept': ...</td>\n",
       "    </tr>\n",
       "    <tr>\n",
       "      <th>NATION</th>\n",
       "      <td>{'label': 'Geography', 'group': 'N/A', 'limit'...</td>\n",
       "    </tr>\n",
       "    <tr>\n",
       "      <th>POPUNI</th>\n",
       "      <td>{'label': 'Population Universe', 'concept': 'C...</td>\n",
       "    </tr>\n",
       "  </tbody>\n",
       "</table>\n",
       "</div>"
      ],
      "text/plain": [
       "                                                 variables\n",
       "COUNTY   {'label': 'Geography', 'group': 'N/A', 'limit'...\n",
       "GEOCOMP  {'label': 'GEO_ID Component', 'required': 'def...\n",
       "GEO_ID   {'label': 'Geographic Identifier', 'concept': ...\n",
       "NATION   {'label': 'Geography', 'group': 'N/A', 'limit'...\n",
       "POPUNI   {'label': 'Population Universe', 'concept': 'C..."
      ]
     },
     "execution_count": 9,
     "metadata": {},
     "output_type": "execute_result"
    }
   ],
   "source": [
    "df.head()"
   ]
  },
  {
   "cell_type": "code",
   "execution_count": 12,
   "id": "22f2a236-ddfc-42d6-89b1-d04f1741aa73",
   "metadata": {},
   "outputs": [
    {
     "name": "stdout",
     "output_type": "stream",
     "text": [
      "@context: https://project-open-data.cio.gov/v1.1/schema/catalog.jsonld\n",
      "@id: http://api.census.gov/data/2019/cre.json\n",
      "@type: dcat:Catalog\n",
      "conformsTo: https://project-open-data.cio.gov/v1.1/schema\n",
      "describedBy: https://project-open-data.cio.gov/v1.1/schema/catalog.json\n",
      "dataset: [{'c_vintage': 2019, 'c_dataset': ['cre'], 'c_geographyLink': 'http://api.census.gov/data/2019/cre/geography.json', 'c_variablesLink': 'http://api.census.gov/data/2019/cre/variables.json', 'c_tagsLink': 'http://api.census.gov/data/2019/cre/tags.json', 'c_examplesLink': 'http://api.census.gov/data/2019/cre/examples.json', 'c_groupsLink': 'http://api.census.gov/data/2019/cre/groups.json', 'c_sorts_url': 'http://api.census.gov/data/2019/cre/sorts.json', 'c_documentationLink': 'https://www.census.gov/developer/', 'c_isAggregate': True, 'c_isAvailable': True, '@type': 'dcat:Dataset', 'title': 'Community Resilience Estimates: Community Resilience Estimates', 'accessLevel': 'public', 'bureauCode': ['006:07'], 'description': 'The Community Resilience Estimates track how at-risk every neighborhood in the United States is to the impacts of a disaster. The Community Resilience Estimates use American Community Survey microdata and Population Estimates Program data to measure the capacity of individuals and households to absorb the external stresses of the impacts of a disaster.', 'distribution': [{'@type': 'dcat:Distribution', 'accessURL': 'http://api.census.gov/data/2019/cre', 'description': 'API endpoint', 'format': 'API', 'mediaType': 'application/json', 'title': 'API endpoint'}], 'contactPoint': {'fn': 'Social, Economic, and Housing   Statistics Division (Household Characteristics Branch)', 'hasEmail': 'mailto:SEHSD.CRE@census.gov'}, 'identifier': 'https://api.census.gov/data/id/CRE2019', 'keyword': ['census'], 'license': 'https://creativecommons.org/publicdomain/zero/1.0/', 'modified': '2021-11-22 00:00:00.0', 'programCode': ['006:004'], 'references': ['https://www.census.gov/developers/'], 'publisher': {'@type': 'org:Organization', 'name': 'U.S. Census Bureau', 'subOrganizationOf': {'@type': 'org:Organization', 'name': 'U.S. Department Of Commerce', 'subOrganizationOf': {'@type': 'org:Organization', 'name': 'U.S. Government'}}}}]\n",
      "{\n",
      "  \"@context\": \"https://project-open-data.cio.gov/v1.1/schema/catalog.jsonld\",\n",
      "  \"@id\": \"http://api.census.gov/data/2019/cre.json\",\n",
      "  \"@type\": \"dcat:Catalog\",\n",
      "  \"conformsTo\": \"https://project-open-data.cio.gov/v1.1/schema\",\n",
      "  \"describedBy\": \"https://project-open-data.cio.gov/v1.1/schema/catalog.json\",\n",
      "  \"dataset\": [\n",
      "    {\n",
      "      \"c_vintage\": 2019,\n",
      "      \"c_dataset\": [\n",
      "        \"cre\"\n",
      "      ],\n",
      "      \"c_geographyLink\": \"http://api.census.gov/data/2019/cre/geography.json\",\n",
      "      \"c_variablesLink\": \"http://api.census.gov/data/2019/cre/variables.json\",\n",
      "      \"c_tagsLink\": \"http://api.census.gov/data/2019/cre/tags.json\",\n",
      "      \"c_examplesLink\": \"http://api.census.gov/data/2019/cre/examples.json\",\n",
      "      \"c_groupsLink\": \"http://api.census.gov/data/2019/cre/groups.json\",\n",
      "      \"c_sorts_url\": \"http://api.census.gov/data/2019/cre/sorts.json\",\n",
      "      \"c_documentationLink\": \"https://www.census.gov/developer/\",\n",
      "      \"c_isAggregate\": true,\n",
      "      \"c_isAvailable\": true,\n",
      "      \"@type\": \"dcat:Dataset\",\n",
      "      \"title\": \"Community Resilience Estimates: Community Resilience Estimates\",\n",
      "      \"accessLevel\": \"public\",\n",
      "      \"bureauCode\": [\n",
      "        \"006:07\"\n",
      "      ],\n",
      "      \"description\": \"The Community Resilience Estimates track how at-risk every neighborhood in the United States is to the impacts of a disaster. The Community Resilience Estimates use American Community Survey microdata and Population Estimates Program data to measure the capacity of individuals and households to absorb the external stresses of the impacts of a disaster.\",\n",
      "      \"distribution\": [\n",
      "        {\n",
      "          \"@type\": \"dcat:Distribution\",\n",
      "          \"accessURL\": \"http://api.census.gov/data/2019/cre\",\n",
      "          \"description\": \"API endpoint\",\n",
      "          \"format\": \"API\",\n",
      "          \"mediaType\": \"application/json\",\n",
      "          \"title\": \"API endpoint\"\n",
      "        }\n",
      "      ],\n",
      "      \"contactPoint\": {\n",
      "        \"fn\": \"Social, Economic, and Housing   Statistics Division (Household Characteristics Branch)\",\n",
      "        \"hasEmail\": \"mailto:SEHSD.CRE@census.gov\"\n",
      "      },\n",
      "      \"identifier\": \"https://api.census.gov/data/id/CRE2019\",\n",
      "      \"keyword\": [\n",
      "        \"census\"\n",
      "      ],\n",
      "      \"license\": \"https://creativecommons.org/publicdomain/zero/1.0/\",\n",
      "      \"modified\": \"2021-11-22 00:00:00.0\",\n",
      "      \"programCode\": [\n",
      "        \"006:004\"\n",
      "      ],\n",
      "      \"references\": [\n",
      "        \"https://www.census.gov/developers/\"\n",
      "      ],\n",
      "      \"publisher\": {\n",
      "        \"@type\": \"org:Organization\",\n",
      "        \"name\": \"U.S. Census Bureau\",\n",
      "        \"subOrganizationOf\": {\n",
      "             \"@type\": \"org:Organization\",\n",
      "             \"name\": \"U.S. Department Of Commerce\",\n",
      "             \"subOrganizationOf\": {\n",
      "                 \"@type\": \"org:Organization\",\n",
      "                 \"name\": \"U.S. Government\"\n",
      "             }\n",
      "         }\n",
      "      }\n",
      "    }\n",
      "  ]\n",
      "}\n"
     ]
    },
    {
     "data": {
      "text/html": [
       "<div>\n",
       "<style scoped>\n",
       "    .dataframe tbody tr th:only-of-type {\n",
       "        vertical-align: middle;\n",
       "    }\n",
       "\n",
       "    .dataframe tbody tr th {\n",
       "        vertical-align: top;\n",
       "    }\n",
       "\n",
       "    .dataframe thead th {\n",
       "        text-align: right;\n",
       "    }\n",
       "</style>\n",
       "<table border=\"1\" class=\"dataframe\">\n",
       "  <thead>\n",
       "    <tr style=\"text-align: right;\">\n",
       "      <th></th>\n",
       "      <th>@context</th>\n",
       "      <th>@id</th>\n",
       "      <th>@type</th>\n",
       "      <th>conformsTo</th>\n",
       "      <th>describedBy</th>\n",
       "      <th>dataset</th>\n",
       "    </tr>\n",
       "  </thead>\n",
       "  <tbody>\n",
       "    <tr>\n",
       "      <th>0</th>\n",
       "      <td>https://project-open-data.cio.gov/v1.1/schema/...</td>\n",
       "      <td>http://api.census.gov/data/2019/cre.json</td>\n",
       "      <td>dcat:Catalog</td>\n",
       "      <td>https://project-open-data.cio.gov/v1.1/schema</td>\n",
       "      <td>https://project-open-data.cio.gov/v1.1/schema/...</td>\n",
       "      <td>{'c_vintage': 2019, 'c_dataset': ['cre'], 'c_g...</td>\n",
       "    </tr>\n",
       "  </tbody>\n",
       "</table>\n",
       "</div>"
      ],
      "text/plain": [
       "                                            @context  \\\n",
       "0  https://project-open-data.cio.gov/v1.1/schema/...   \n",
       "\n",
       "                                        @id         @type  \\\n",
       "0  http://api.census.gov/data/2019/cre.json  dcat:Catalog   \n",
       "\n",
       "                                      conformsTo  \\\n",
       "0  https://project-open-data.cio.gov/v1.1/schema   \n",
       "\n",
       "                                         describedBy  \\\n",
       "0  https://project-open-data.cio.gov/v1.1/schema/...   \n",
       "\n",
       "                                             dataset  \n",
       "0  {'c_vintage': 2019, 'c_dataset': ['cre'], 'c_g...  "
      ]
     },
     "execution_count": 12,
     "metadata": {},
     "output_type": "execute_result"
    }
   ],
   "source": [
    "cre_url=\"http://api.census.gov/data/2019/cre\"\n",
    "cre_r=requests.get(cre_url)\n",
    "cre_json_data=cre_r.json()\n",
    "for key, value in cre_json_data.items():\n",
    "    print(key + \":\", value)\n",
    "\n",
    "cre_text_data=cre_r.text\n",
    "print(cre_text_data)\n",
    "\n",
    "cre_df=pd.DataFrame(cre_json_data)\n",
    "cre_df.head()"
   ]
  },
  {
   "cell_type": "code",
   "execution_count": 13,
   "id": "df3d04e0-fe9d-4ab8-a913-c2c26aa118fe",
   "metadata": {},
   "outputs": [
    {
     "name": "stdout",
     "output_type": "stream",
     "text": [
      "                                            @context  \\\n",
      "0  https://project-open-data.cio.gov/v1.1/schema/...   \n",
      "\n",
      "                                        @id         @type  \\\n",
      "0  http://api.census.gov/data/2019/cre.json  dcat:Catalog   \n",
      "\n",
      "                                      conformsTo  \\\n",
      "0  https://project-open-data.cio.gov/v1.1/schema   \n",
      "\n",
      "                                         describedBy  \\\n",
      "0  https://project-open-data.cio.gov/v1.1/schema/...   \n",
      "\n",
      "                                             dataset  \n",
      "0  {'c_vintage': 2019, 'c_dataset': ['cre'], 'c_g...  \n"
     ]
    }
   ],
   "source": [
    "print(cre_df)"
   ]
  },
  {
   "cell_type": "code",
   "execution_count": null,
   "id": "055ac019-3004-4866-ab98-e88e92949a98",
   "metadata": {},
   "outputs": [],
   "source": []
  }
 ],
 "metadata": {
  "kernelspec": {
   "display_name": "Python 3 (ipykernel)",
   "language": "python",
   "name": "python3"
  },
  "language_info": {
   "codemirror_mode": {
    "name": "ipython",
    "version": 3
   },
   "file_extension": ".py",
   "mimetype": "text/x-python",
   "name": "python",
   "nbconvert_exporter": "python",
   "pygments_lexer": "ipython3",
   "version": "3.9.12"
  }
 },
 "nbformat": 4,
 "nbformat_minor": 5
}
